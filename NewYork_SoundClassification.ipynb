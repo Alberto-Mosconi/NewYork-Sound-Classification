{
  "nbformat": 4,
  "nbformat_minor": 0,
  "metadata": {
    "colab": {
      "name": "cs181_practical_student_code.ipynb",
      "provenance": [],
      "collapsed_sections": [],
      "toc_visible": true
    },
    "kernelspec": {
      "name": "python3",
      "display_name": "Python 3"
    },
    "language_info": {
      "name": "python"
    },
    "accelerator": "GPU"
  },
  "cells": [
    {
      "cell_type": "markdown",
      "metadata": {
        "id": "vZzMPfh8HhFX"
      },
      "source": [
        "# Student Starter Code\n",
        "### CS 181 Practical, Spring 2021\n",
        "author: njohnson\n",
        "\n",
        "**Please copy this notebook by clicking \"File\" -> \"Save a Copy in Drive\".**"
      ]
    },
    {
      "cell_type": "markdown",
      "metadata": {
        "id": "ZbS0tJBQmZ0V"
      },
      "source": [
        ""
      ]
    },
    {
      "cell_type": "markdown",
      "metadata": {
        "id": "E2_H7IBvHuZI"
      },
      "source": [
        "This notebook contains starter code to:\n",
        "\n",
        "\n",
        "*   **Load all of the data files** directly into your Colab runtime from the GCP bucket (so you don't need to download them to your computer!)\n",
        "*   **Install libraries** inline, so you don't need to install them to your computer!\n",
        "\n",
        "\n"
      ]
    },
    {
      "cell_type": "markdown",
      "metadata": {
        "id": "0DKObq2EMWGM"
      },
      "source": [
        "# Before you run this code:\n",
        "\n",
        "1.   **Change your Runtime to use a GPU**: Click \"Runtime\" -> \"Change Runtime Type\", and select \"GPU\".\n",
        "2.   **Stop Colab from disconnecting**:  To prevent Google Colab from disconnecting while you're away,  you can add an auto-click function using the Chrome console Just \"Inspect\", navigate to the \"Console\" and paste in this function:\n",
        "\n",
        "```\n",
        "function ClickConnect(){\n",
        "    console.log(\"Clicked on connect button\"); \n",
        "    document.querySelector(\"#ok\").click()\n",
        "}\n",
        "setInterval(ClickConnect,60000)\n",
        "```\n",
        "\n",
        "\n",
        "\n",
        "\n",
        "\n"
      ]
    },
    {
      "cell_type": "code",
      "metadata": {
        "id": "rnkY_dv_QYz8"
      },
      "source": [
        "import numpy as np\n",
        "import matplotlib.pyplot as plt"
      ],
      "execution_count": null,
      "outputs": []
    },
    {
      "cell_type": "markdown",
      "metadata": {
        "id": "PVU_lGLoPwIC"
      },
      "source": [
        "## Load the data files into local memory from the GCP bucket."
      ]
    },
    {
      "cell_type": "code",
      "metadata": {
        "colab": {
          "base_uri": "https://localhost:8080/"
        },
        "id": "-yA1eCGyMVes",
        "outputId": "aa22fdf3-b292-4d99-9e57-8198d2fa7007"
      },
      "source": [
        "!gsutil cp gs://cs181_practical_data/Xtrain_amp.npy ./\n",
        "!gsutil cp gs://cs181_practical_data/ytrain_amp.npy ./\n",
        "\n",
        "!gsutil cp gs://cs181_practical_data/Xtest_amp.npy ./\n",
        "!gsutil cp gs://cs181_practical_data/ytest_amp.npy ./\n",
        "\n",
        "!gsutil cp gs://cs181_practical_data/Xtrain_mel.npy ./\n",
        "!gsutil cp gs://cs181_practical_data/ytrain_mel.npy ./\n",
        "\n",
        "!gsutil cp gs://cs181_practical_data/Xtest_mel.npy ./\n",
        "!gsutil cp gs://cs181_practical_data/ytest_mel.npy ./"
      ],
      "execution_count": null,
      "outputs": [
        {
          "output_type": "stream",
          "text": [
            "Copying gs://cs181_practical_data/Xtrain_amp.npy...\n",
            "| [1 files][934.2 MiB/934.2 MiB]   41.8 MiB/s                                   \n",
            "Operation completed over 1 objects/934.2 MiB.                                    \n",
            "Copying gs://cs181_practical_data/ytrain_amp.npy...\n",
            "/ [1 files][ 43.5 KiB/ 43.5 KiB]                                                \n",
            "Operation completed over 1 objects/43.5 KiB.                                     \n",
            "Copying gs://cs181_practical_data/Xtest_amp.npy...\n",
            "- [1 files][369.6 MiB/369.6 MiB]                                                \n",
            "Operation completed over 1 objects/369.6 MiB.                                    \n",
            "Copying gs://cs181_practical_data/ytest_amp.npy...\n",
            "/ [1 files][ 17.3 KiB/ 17.3 KiB]                                                \n",
            "Operation completed over 1 objects/17.3 KiB.                                     \n",
            "Copying gs://cs181_practical_data/Xtrain_mel.npy...\n",
            "- [1 files][235.9 MiB/235.9 MiB]                                                \n",
            "Operation completed over 1 objects/235.9 MiB.                                    \n",
            "Copying gs://cs181_practical_data/ytrain_mel.npy...\n",
            "/ [1 files][ 43.5 KiB/ 43.5 KiB]                                                \n",
            "Operation completed over 1 objects/43.5 KiB.                                     \n",
            "Copying gs://cs181_practical_data/Xtest_mel.npy...\n",
            "| [1 files][ 93.3 MiB/ 93.3 MiB]                                                \n",
            "Operation completed over 1 objects/93.3 MiB.                                     \n",
            "Copying gs://cs181_practical_data/ytest_mel.npy...\n",
            "/ [1 files][ 17.3 KiB/ 17.3 KiB]                                                \n",
            "Operation completed over 1 objects/17.3 KiB.                                     \n"
          ],
          "name": "stdout"
        }
      ]
    },
    {
      "cell_type": "markdown",
      "metadata": {
        "id": "4vQKC6VJP6Vq"
      },
      "source": [
        "### Load raw amplitude data as a numpy object."
      ]
    },
    {
      "cell_type": "code",
      "metadata": {
        "id": "EsrrnkJNMUIG"
      },
      "source": [
        "# Load train data\n",
        "\n",
        "X_amp_train = np.load(\"Xtrain_amp.npy\")\n",
        "y_amp_train = np.load(\"ytrain_amp.npy\")"
      ],
      "execution_count": null,
      "outputs": []
    },
    {
      "cell_type": "code",
      "metadata": {
        "colab": {
          "base_uri": "https://localhost:8080/"
        },
        "id": "AnugjNjwHdsA",
        "outputId": "0da53a6d-45bb-4a26-c6df-b0c3c67a91b3"
      },
      "source": [
        "X_amp_train.shape"
      ],
      "execution_count": null,
      "outputs": [
        {
          "output_type": "execute_result",
          "data": {
            "text/plain": [
              "(5553, 44100)"
            ]
          },
          "metadata": {
            "tags": []
          },
          "execution_count": 4
        }
      ]
    },
    {
      "cell_type": "code",
      "metadata": {
        "id": "zwbCZz3uQEdB"
      },
      "source": [
        "# Load test data\n",
        "\n",
        "X_amp_test = np.load(\"Xtest_amp.npy\")\n",
        "y_amp_test = np.load(\"ytest_amp.npy\")"
      ],
      "execution_count": null,
      "outputs": []
    },
    {
      "cell_type": "code",
      "metadata": {
        "colab": {
          "base_uri": "https://localhost:8080/"
        },
        "id": "0vYPQbnbQGv9",
        "outputId": "62bf9068-be6c-4500-cb17-8483a1688093"
      },
      "source": [
        "X_amp_test.shape"
      ],
      "execution_count": null,
      "outputs": [
        {
          "output_type": "execute_result",
          "data": {
            "text/plain": [
              "(2197, 44100)"
            ]
          },
          "metadata": {
            "tags": []
          },
          "execution_count": 6
        }
      ]
    },
    {
      "cell_type": "markdown",
      "metadata": {
        "id": "bOdhs7mQQHcd"
      },
      "source": [
        "### Load Mel spectrogram data as a numpy object."
      ]
    },
    {
      "cell_type": "code",
      "metadata": {
        "id": "O3DYzdbAQKXq"
      },
      "source": [
        "# Load train data\n",
        "\n",
        "X_mel_train = np.load(\"Xtrain_mel.npy\")\n",
        "y_mel_train = np.load(\"ytrain_mel.npy\")"
      ],
      "execution_count": null,
      "outputs": []
    },
    {
      "cell_type": "code",
      "metadata": {
        "colab": {
          "base_uri": "https://localhost:8080/"
        },
        "id": "IKFnWtKeQOfs",
        "outputId": "fdd2ad85-dc74-481d-d037-2ebe9c1e60df"
      },
      "source": [
        "X_mel_train.shape"
      ],
      "execution_count": null,
      "outputs": [
        {
          "output_type": "execute_result",
          "data": {
            "text/plain": [
              "(5553, 128, 87)"
            ]
          },
          "metadata": {
            "tags": []
          },
          "execution_count": 8
        }
      ]
    },
    {
      "cell_type": "code",
      "metadata": {
        "colab": {
          "base_uri": "https://localhost:8080/"
        },
        "id": "Bztvdo-hQOyH",
        "outputId": "5432e0c2-91ff-4826-a876-0cfe4e13af75"
      },
      "source": [
        "# Flatten X_mel_train's spectrogram features\n",
        "X_mel_train_flat = X_mel_train.reshape(X_mel_train.shape[0], -1)\n",
        "X_mel_train_flat.shape"
      ],
      "execution_count": null,
      "outputs": [
        {
          "output_type": "execute_result",
          "data": {
            "text/plain": [
              "(5553, 11136)"
            ]
          },
          "metadata": {
            "tags": []
          },
          "execution_count": 7
        }
      ]
    },
    {
      "cell_type": "code",
      "metadata": {
        "id": "9-bNNjLVQQPf"
      },
      "source": [
        "# Load test data\n",
        "\n",
        "X_mel_test = np.load(\"Xtest_mel.npy\")\n",
        "y_mel_test = np.load(\"ytest_mel.npy\")"
      ],
      "execution_count": null,
      "outputs": []
    },
    {
      "cell_type": "code",
      "metadata": {
        "colab": {
          "base_uri": "https://localhost:8080/"
        },
        "id": "7njgVmbhQSjW",
        "outputId": "2491a58b-7aa0-4234-9eaa-167a5df91877"
      },
      "source": [
        "X_mel_test_flat = X_mel_test.reshape(X_mel_test.shape[0], -1)\n",
        "X_mel_test.shape"
      ],
      "execution_count": null,
      "outputs": [
        {
          "output_type": "execute_result",
          "data": {
            "text/plain": [
              "(2197, 128, 87)"
            ]
          },
          "metadata": {
            "tags": []
          },
          "execution_count": 9
        }
      ]
    },
    {
      "cell_type": "markdown",
      "metadata": {
        "id": "xs7vdtploDz0"
      },
      "source": [
        "### Delete an object from local memory.\n",
        "\n",
        "The \"del\" keyword in Python is used to dereference objects from local memory.  You can use it to save memory by getting rid of variables that you don't intend to use anymore.\n",
        "\n",
        "For example, to delete the variable X_mel_train:"
      ]
    },
    {
      "cell_type": "code",
      "metadata": {
        "id": "IvL9Wt9KoEdC"
      },
      "source": [
        "# del X_mel_train"
      ],
      "execution_count": null,
      "outputs": []
    },
    {
      "cell_type": "markdown",
      "metadata": {
        "id": "a_gzzQ9RQlkK"
      },
      "source": [
        "### Example package installation\n",
        "\n",
        "You can install packages using pip by running lines of code preceded by \"!\".  For example, the below line of code installs the librosa package:"
      ]
    },
    {
      "cell_type": "code",
      "metadata": {
        "colab": {
          "base_uri": "https://localhost:8080/"
        },
        "id": "kqw1NYi-Qkea",
        "outputId": "ff459ff0-516e-4fde-ff23-1fa91d6818d7"
      },
      "source": [
        "! pip install librosa"
      ],
      "execution_count": null,
      "outputs": [
        {
          "output_type": "stream",
          "text": [
            "Requirement already satisfied: librosa in /usr/local/lib/python3.7/dist-packages (0.8.0)\n",
            "Requirement already satisfied: decorator>=3.0.0 in /usr/local/lib/python3.7/dist-packages (from librosa) (4.4.2)\n",
            "Requirement already satisfied: scikit-learn!=0.19.0,>=0.14.0 in /usr/local/lib/python3.7/dist-packages (from librosa) (0.22.2.post1)\n",
            "Requirement already satisfied: soundfile>=0.9.0 in /usr/local/lib/python3.7/dist-packages (from librosa) (0.10.3.post1)\n",
            "Requirement already satisfied: joblib>=0.14 in /usr/local/lib/python3.7/dist-packages (from librosa) (1.0.1)\n",
            "Requirement already satisfied: numba>=0.43.0 in /usr/local/lib/python3.7/dist-packages (from librosa) (0.51.2)\n",
            "Requirement already satisfied: scipy>=1.0.0 in /usr/local/lib/python3.7/dist-packages (from librosa) (1.4.1)\n",
            "Requirement already satisfied: pooch>=1.0 in /usr/local/lib/python3.7/dist-packages (from librosa) (1.3.0)\n",
            "Requirement already satisfied: numpy>=1.15.0 in /usr/local/lib/python3.7/dist-packages (from librosa) (1.19.5)\n",
            "Requirement already satisfied: resampy>=0.2.2 in /usr/local/lib/python3.7/dist-packages (from librosa) (0.2.2)\n",
            "Requirement already satisfied: audioread>=2.0.0 in /usr/local/lib/python3.7/dist-packages (from librosa) (2.1.9)\n",
            "Requirement already satisfied: cffi>=1.0 in /usr/local/lib/python3.7/dist-packages (from soundfile>=0.9.0->librosa) (1.14.5)\n",
            "Requirement already satisfied: llvmlite<0.35,>=0.34.0.dev0 in /usr/local/lib/python3.7/dist-packages (from numba>=0.43.0->librosa) (0.34.0)\n",
            "Requirement already satisfied: setuptools in /usr/local/lib/python3.7/dist-packages (from numba>=0.43.0->librosa) (54.2.0)\n",
            "Requirement already satisfied: appdirs in /usr/local/lib/python3.7/dist-packages (from pooch>=1.0->librosa) (1.4.4)\n",
            "Requirement already satisfied: packaging in /usr/local/lib/python3.7/dist-packages (from pooch>=1.0->librosa) (20.9)\n",
            "Requirement already satisfied: requests in /usr/local/lib/python3.7/dist-packages (from pooch>=1.0->librosa) (2.23.0)\n",
            "Requirement already satisfied: six>=1.3 in /usr/local/lib/python3.7/dist-packages (from resampy>=0.2.2->librosa) (1.15.0)\n",
            "Requirement already satisfied: pycparser in /usr/local/lib/python3.7/dist-packages (from cffi>=1.0->soundfile>=0.9.0->librosa) (2.20)\n",
            "Requirement already satisfied: pyparsing>=2.0.2 in /usr/local/lib/python3.7/dist-packages (from packaging->pooch>=1.0->librosa) (2.4.7)\n",
            "Requirement already satisfied: chardet<4,>=3.0.2 in /usr/local/lib/python3.7/dist-packages (from requests->pooch>=1.0->librosa) (3.0.4)\n",
            "Requirement already satisfied: idna<3,>=2.5 in /usr/local/lib/python3.7/dist-packages (from requests->pooch>=1.0->librosa) (2.10)\n",
            "Requirement already satisfied: certifi>=2017.4.17 in /usr/local/lib/python3.7/dist-packages (from requests->pooch>=1.0->librosa) (2020.12.5)\n",
            "Requirement already satisfied: urllib3!=1.25.0,!=1.25.1,<1.26,>=1.21.1 in /usr/local/lib/python3.7/dist-packages (from requests->pooch>=1.0->librosa) (1.24.3)\n"
          ],
          "name": "stdout"
        }
      ]
    },
    {
      "cell_type": "code",
      "metadata": {
        "id": "APTaS9L1QvAy"
      },
      "source": [
        "# After you've installed a package, you can import it\n",
        "import librosa"
      ],
      "execution_count": null,
      "outputs": []
    },
    {
      "cell_type": "code",
      "metadata": {
        "id": "7Nob3i4RQxpl"
      },
      "source": [
        "import librosa.display"
      ],
      "execution_count": null,
      "outputs": []
    },
    {
      "cell_type": "code",
      "metadata": {
        "id": "ecXQO4v_w6zi"
      },
      "source": [
        "import matplotlib.pyplot as plt\n",
        "def plot_spec(y):\n",
        "    '''Adapted from librosa documentation'''\n",
        "    fig, ax = plt.subplots(nrows=1, ncols=1, sharex=True)\n",
        "\n",
        "    hop_length = 2048\n",
        "    img = librosa.display.specshow(y, y_axis='log', hop_length=hop_length, x_axis='time', ax=ax)\n",
        "    ax.set(title='Log-frequency power spectrogram')\n",
        "    ax.label_outer()\n",
        "    fig.colorbar(img, ax=ax, format=\"%+2.f dB\")"
      ],
      "execution_count": null,
      "outputs": []
    },
    {
      "cell_type": "code",
      "metadata": {
        "colab": {
          "base_uri": "https://localhost:8080/"
        },
        "id": "jHLzqeJCZazH",
        "outputId": "05ac0a23-19b1-448d-95c1-da8b2654a1a5"
      },
      "source": [
        "y_mel_test[12]"
      ],
      "execution_count": null,
      "outputs": [
        {
          "output_type": "execute_result",
          "data": {
            "text/plain": [
              "2"
            ]
          },
          "metadata": {
            "tags": []
          },
          "execution_count": 20
        }
      ]
    },
    {
      "cell_type": "code",
      "metadata": {
        "colab": {
          "base_uri": "https://localhost:8080/",
          "height": 295
        },
        "id": "nrrjDimoxQMv",
        "outputId": "50887fec-7f15-4b3f-e8d0-1f839ce54660"
      },
      "source": [
        "plot_spec(X_mel_test[12])"
      ],
      "execution_count": null,
      "outputs": [
        {
          "output_type": "display_data",
          "data": {
            "image/png": "[encoded data removed]",
            "text/plain": [
              "<Figure size 432x288 with 2 Axes>"
            ]
          },
          "metadata": {
            "tags": [],
            "needs_background": "light"
          }
        }
      ]
    },
    {
      "cell_type": "markdown",
      "metadata": {
        "id": "_GvXDNRwzWmC"
      },
      "source": [
        "# PCA to Logistic Regression"
      ]
    },
    {
      "cell_type": "code",
      "metadata": {
        "id": "wv2c7HqkyCjA"
      },
      "source": [
        "import sklearn.decomposition\n",
        "\n",
        "NUM_COMPONENTS = 500\n",
        "NUM_CLASSES = 10\n",
        "CLASSNAMES = [\"air_conditioner\", \"car_horn\", \"children_playing\", \"dog_bark\", \"drilling\", \"engine_idling\", \"gun_shot\",\n",
        "              \"jackhammer\", \"siren\", \"street_music\"]\n",
        "\n",
        "# Computes PCA and projects design matrix into parameter space\n",
        "pca_amp = sklearn.decomposition.PCA(NUM_COMPONENTS)\n",
        "X_amp_proj_train = pca_amp.fit_transform(X_amp_train) \n",
        "\n",
        "# Computes PCA and projects design matrix into parameter space\n",
        "pca_mel = sklearn.decomposition.PCA(NUM_COMPONENTS)\n",
        "X_mel_proj_train = pca_mel.fit_transform(X_mel_train_flat)"
      ],
      "execution_count": null,
      "outputs": []
    },
    {
      "cell_type": "code",
      "metadata": {
        "id": "LZeJcaho0K-X",
        "colab": {
          "base_uri": "https://localhost:8080/"
        },
        "outputId": "e3f28490-3daf-46f0-ba12-ecb0567cd8f7"
      },
      "source": [
        "# Get % of variation explained in each\n",
        "amp_var_explained = np.sum(pca_amp.explained_variance_ratio_)\n",
        "mel_var_explained = np.sum(pca_mel.explained_variance_ratio_)\n",
        "\n",
        "print(f\"Variation explained by first 500 modes for amp data: {amp_var_explained}\")\n",
        "print(f\"Variation explained by first 500 modes for mel data: {mel_var_explained}\")"
      ],
      "execution_count": null,
      "outputs": [
        {
          "output_type": "stream",
          "text": [
            "Variation explained by first 500 modes for amp data: 0.6018065214157104\n",
            "Variation explained by first 500 modes for mel data: 0.9792006015777588\n"
          ],
          "name": "stdout"
        }
      ]
    },
    {
      "cell_type": "markdown",
      "metadata": {
        "id": "Z8s6pDng2IIt"
      },
      "source": [
        "## Grid Search"
      ]
    },
    {
      "cell_type": "code",
      "metadata": {
        "id": "AXlAfaII1vnU"
      },
      "source": [
        "# Grid search adapted from https://github.com/ageron/handson-ml2/blob/master/03_classification.ipynb\n",
        "from sklearn.linear_model import LogisticRegression\n",
        "from sklearn.model_selection import GridSearchCV\n",
        "\n",
        "params = {'C': [0.1, 1, 10],\n",
        "          'class_weight': [None, 'balanced'],\n",
        "          'max_iter': [1000, 10000, 100000]\n",
        "          }"
      ],
      "execution_count": null,
      "outputs": []
    },
    {
      "cell_type": "code",
      "metadata": {
        "id": "p8LDieeUXaYG"
      },
      "source": [
        "def accuracy(model, X, Y):\n",
        "    \"\"\"Computes class accuracies and overall accuracy\"\"\"\n",
        "    predictions = model.predict(X)\n",
        "\n",
        "    # Get vector of counts of true y labels\n",
        "    class_counts = np.array([np.count_nonzero(Y == i) for i in range(NUM_CLASSES)])\n",
        "\n",
        "    # Count hits\n",
        "    TP_counts = np.zeros(NUM_CLASSES)\n",
        "    for prediction, y in zip(predictions, Y):\n",
        "        if prediction == y:\n",
        "            TP_counts[y] += 1\n",
        "\n",
        "    # Compute accuracy\n",
        "    total_acc = np.sum(TP_counts) / len(X)\n",
        "\n",
        "    # Class accuracies: each TP_count divided by respective class_count\n",
        "    class_acc = np.array([tp / class_count for tp, class_count in zip(TP_counts, class_counts)])\n",
        "    return class_acc, total_acc "
      ],
      "execution_count": null,
      "outputs": []
    },
    {
      "cell_type": "markdown",
      "metadata": {
        "id": "VmRgaacb7Jk9"
      },
      "source": [
        "### Grid search LR on amp data"
      ]
    },
    {
      "cell_type": "code",
      "metadata": {
        "id": "AWEbdFZh4u-O"
      },
      "source": [
        "# amp_model = LogisticRegression()\n",
        "# amp_gridsearch = GridSearchCV(amp_model, params, cv=3, verbose=3)\n",
        "# amp_gridsearch.fit(X_amp_proj_train, y_amp_train)\n",
        "# log_amp_model = amp_gridsearch.best_estimator_"
      ],
      "execution_count": null,
      "outputs": []
    },
    {
      "cell_type": "markdown",
      "metadata": {
        "id": "sAQ6Fyz-7TS6"
      },
      "source": [
        "### Grid search LR on mel data"
      ]
    },
    {
      "cell_type": "code",
      "metadata": {
        "id": "F8ahUmXO7Sxj"
      },
      "source": [
        "# mel_model = LogisticRegression()\n",
        "# mel_gridsearch = GridSearchCV(mel_model, params, cv=3, verbose=3)\n",
        "# mel_gridsearch.fit(X_mel_proj_train, y_mel_train)\n",
        "# log_mel_model = mel_gridsearch.best_estimator_"
      ],
      "execution_count": null,
      "outputs": []
    },
    {
      "cell_type": "code",
      "metadata": {
        "id": "IY6LSUKa7ffz"
      },
      "source": [
        "# import pickle\n",
        "\n",
        "# pickle.dump(log_amp_model, open(\"log_amp_model.p\", \"wb\"))\n",
        "# pickle.dump(log_mel_model, open(\"log_mel_model.p\", \"wb\"))"
      ],
      "execution_count": null,
      "outputs": []
    },
    {
      "cell_type": "code",
      "metadata": {
        "id": "6JjB4UdT0xnv"
      },
      "source": [
        "import pickle\n",
        "\n",
        "log_amp_model = pickle.load(open( \"log_amp_model.p\", \"rb\" ))\n",
        "log_mel_model = pickle.load(open( \"log_mel_model.p\", \"rb\" ))"
      ],
      "execution_count": null,
      "outputs": []
    },
    {
      "cell_type": "markdown",
      "metadata": {
        "id": "sC24ieFT_QLc"
      },
      "source": [
        "## Train/Test results"
      ]
    },
    {
      "cell_type": "code",
      "metadata": {
        "id": "BB2Gy44FKRQy",
        "colab": {
          "base_uri": "https://localhost:8080/"
        },
        "outputId": "657e4cd6-8676-450c-a030-42776ec2891b"
      },
      "source": [
        "\n",
        "print(\"Best model: \", log_amp_model)\n",
        "print(\"Accuracy:\", accuracy(log_amp_model, X_amp_proj_train, y_amp_train))"
      ],
      "execution_count": null,
      "outputs": [
        {
          "output_type": "stream",
          "text": [
            "Best model:  LogisticRegression(C=0.1, class_weight=None, dual=False, fit_intercept=True,\n",
            "                   intercept_scaling=1, l1_ratio=None, max_iter=1000,\n",
            "                   multi_class='auto', n_jobs=None, penalty='l2',\n",
            "                   random_state=None, solver='lbfgs', tol=0.0001, verbose=0,\n",
            "                   warm_start=False)\n",
            "Accuracy: (array([0.28571429, 0.11675127, 0.54166667, 0.14913958, 0.15980231,\n",
            "       0.28710125, 0.38554217, 0.25227964, 0.28742515, 0.27714286]), 0.2820097244732577)\n"
          ],
          "name": "stdout"
        }
      ]
    },
    {
      "cell_type": "code",
      "metadata": {
        "colab": {
          "base_uri": "https://localhost:8080/"
        },
        "id": "tN2CWopF7cnJ",
        "outputId": "ea2f53b8-4311-4150-ca28-23961fdd5482"
      },
      "source": [
        "print(\"Best model: \", log_mel_model)\n",
        "print(\"Accuracy on train set:\", accuracy(log_mel_model, X_mel_proj_train, y_mel_train))"
      ],
      "execution_count": null,
      "outputs": [
        {
          "output_type": "stream",
          "text": [
            "Best model:  LogisticRegression(C=0.1, class_weight=None, dual=False, fit_intercept=True,\n",
            "                   intercept_scaling=1, l1_ratio=None, max_iter=100000,\n",
            "                   multi_class='auto', n_jobs=None, penalty='l2',\n",
            "                   random_state=None, solver='lbfgs', tol=0.0001, verbose=0,\n",
            "                   warm_start=False)\n",
            "Accuracy on train set: (array([0.44285714, 0.72081218, 0.55890805, 0.4416826 , 0.54200988,\n",
            "       0.48266297, 0.60240964, 0.58358663, 0.54640719, 0.37428571]), 0.5060327750765352)\n"
          ],
          "name": "stdout"
        }
      ]
    },
    {
      "cell_type": "code",
      "metadata": {
        "id": "XySckvhg_Sfc"
      },
      "source": [
        "# Project test data onto PC\n",
        "\n",
        "# Amplitude data\n",
        "X_amp_test_proj = pca_amp.transform(X_amp_test) \n",
        "\n",
        "# Spectrogram data\n",
        "X_mel_test_flat = X_mel_test.reshape(X_mel_test.shape[0], -1)\n",
        "X_mel_test_flat_proj = pca_mel.transform(X_mel_test_flat)"
      ],
      "execution_count": null,
      "outputs": []
    },
    {
      "cell_type": "code",
      "metadata": {
        "colab": {
          "base_uri": "https://localhost:8080/"
        },
        "id": "7H3kic0k7jjk",
        "outputId": "eccb0961-acc2-437c-d5e6-5752af548dd6"
      },
      "source": [
        "# Get test accuracies\n",
        "\n",
        "amp_test_accuracies = accuracy(log_amp_model, X_amp_test_proj, y_amp_test)\n",
        "print(\"Amplitude test accuracies:\", amp_test_accuracies[1], np.around(amp_test_accuracies[0], 3))\n",
        "\n",
        "mel_test_accuracies = accuracy(log_mel_model, X_mel_test_flat_proj, y_mel_test)\n",
        "print(\"Spectrogram test accuracies:\", mel_test_accuracies[1], np.around(mel_test_accuracies[0], 3))"
      ],
      "execution_count": null,
      "outputs": [
        {
          "output_type": "stream",
          "text": [
            "Amplitude test accuracies: 0.1943559399180701 [0.23  0.    0.652 0.057 0.049 0.14  0.    0.123 0.11  0.15 ]\n",
            "Spectrogram test accuracies: 0.3131543013199818 [0.21  0.538 0.532 0.188 0.33  0.348 0.533 0.203 0.487 0.147]\n"
          ],
          "name": "stdout"
        }
      ]
    },
    {
      "cell_type": "code",
      "metadata": {
        "id": "V87SienF1wZm"
      },
      "source": [
        "import matplotlib.pyplot as plt\n",
        "\n",
        "# adapted from https://github.com/ageron/handson-ml2/blob/master/03_classification.ipynb\n",
        "def plot_confusion_matrix(matrix, save=False, filename=None):\n",
        "    \"\"\"If you prefer color and a colorbar\"\"\"\n",
        "    fig = plt.figure(figsize=(8,8))\n",
        "    ax = fig.add_subplot(111)\n",
        "    cax = ax.matshow(matrix)\n",
        "    fig.colorbar(cax)\n",
        "    if save:\n",
        "        assert filename != None\n",
        "        plt.savefig(filename)\n",
        "\n",
        "def class_accuracy_barplots(list1, list2, label1, label2):\n",
        "    assert len(list1) == len(list2)\n",
        "    ind = np.arange(len(list1))\n",
        "    width = 0.35\n",
        "    fig, ax = plt.subplots(figsize=(12,6))\n",
        "    rects1 = ax.bar(ind - width/2, list1, width, label=label1, color='mediumpurple')\n",
        "    rects2 = ax.bar(ind + width/2, list2, width, label=label2, color='paleturquoise')\n",
        "    ax.set_ylabel('Accuracy')\n",
        "    ax.set_title('Class Accuracies')\n",
        "    ax.set_xticks(ind)\n",
        "    ax.set_xticklabels([str(i) for i in range(len(list1))])\n",
        "    ax.legend()\n",
        "    plt.show()"
      ],
      "execution_count": null,
      "outputs": []
    },
    {
      "cell_type": "code",
      "metadata": {
        "colab": {
          "base_uri": "https://localhost:8080/",
          "height": 390
        },
        "id": "EbFU2cQB9pam",
        "outputId": "3917adc4-d83a-4d79-dbe5-bdd1f25c5fc3"
      },
      "source": [
        "class_accuracy_barplots(amp_test_accuracies[0], mel_test_accuracies[0], \"Amplitude\", \"Spectrogram\")"
      ],
      "execution_count": null,
      "outputs": [
        {
          "output_type": "display_data",
          "data": {
            "image/png": "[encoded data removed]",
            "text/plain": [
              "<Figure size 864x432 with 1 Axes>"
            ]
          },
          "metadata": {
            "tags": [],
            "needs_background": "light"
          }
        }
      ]
    },
    {
      "cell_type": "markdown",
      "metadata": {
        "id": "doRJuRVrcgr3"
      },
      "source": [
        "# Random Forests"
      ]
    },
    {
      "cell_type": "code",
      "metadata": {
        "id": "WMahkOUxc3ll"
      },
      "source": [
        "from sklearn.ensemble import RandomForestClassifier\n",
        "from sklearn.model_selection import cross_val_predict\n",
        "from sklearn.preprocessing import StandardScaler\n",
        "from sklearn.metrics import accuracy_score, classification_report\n",
        "from sklearn.decomposition import PCA\n",
        "from sklearn.model_selection import GridSearchCV\n",
        "import time\n",
        "import pandas as pd\n",
        "import itertools\n",
        "from tqdm import tqdm\n",
        "\n",
        "rs = 42"
      ],
      "execution_count": null,
      "outputs": []
    },
    {
      "cell_type": "code",
      "metadata": {
        "colab": {
          "base_uri": "https://localhost:8080/",
          "height": 238
        },
        "id": "s-334_eODg0_",
        "outputId": "dfa4eb83-3c1f-4742-fdaa-f7d4b872332f"
      },
      "source": [
        "forest_clf_amp = RandomForestClassifier(n_estimators=10, random_state=rs) # n_estimators = number of trees, random_state = seed in RNG (None=no seed, alwasy different RNGs)\n",
        "forest_clf_amp.fit(X_amp_train, y_amp_train)\n",
        "\n",
        "# testing accuracy for amp data\n",
        "print(\"Accuracy score on train data: \", accuracy_score(y_amp_train, forest_clf_amp.predict(X_amp_train)))\n",
        "print(\"Accuracy score on test data: \", accuracy_score(y_amp_test, forest_clf_amp.predict(X_amp_test)))\n",
        "\n",
        "forest_clf_mel = RandomForestClassifier(n_estimators=10, random_state=42, max_depth=None) # n_estimators = number of trees, random_state = seed in RNG (None=no seed, alwasy different RNGs)\n",
        "forest_clf_mel.fit(X_mel_train_flat, y_amp_train)\n",
        "\n",
        "# testing accuracy for spectrogram data\n",
        "print(\"Accuracy score on train data: \", accuracy_score(y_mel_train, forest_clf_mel.predict(X_mel_train_flat)))\n",
        "print(\"Accuracy score on test data: \", accuracy_score(y_mel_test, forest_clf_mel.predict(X_mel_test_flat)))"
      ],
      "execution_count": null,
      "outputs": [
        {
          "output_type": "error",
          "ename": "NameError",
          "evalue": "ignored",
          "traceback": [
            "\u001b[0;31m---------------------------------------------------------------------------\u001b[0m",
            "\u001b[0;31mNameError\u001b[0m                                 Traceback (most recent call last)",
            "\u001b[0;32m<ipython-input-2-0f8c1a70e360>\u001b[0m in \u001b[0;36m<module>\u001b[0;34m()\u001b[0m\n\u001b[1;32m      1\u001b[0m \u001b[0mforest_clf_amp\u001b[0m \u001b[0;34m=\u001b[0m \u001b[0mRandomForestClassifier\u001b[0m\u001b[0;34m(\u001b[0m\u001b[0mn_estimators\u001b[0m\u001b[0;34m=\u001b[0m\u001b[0;36m10\u001b[0m\u001b[0;34m,\u001b[0m \u001b[0mrandom_state\u001b[0m\u001b[0;34m=\u001b[0m\u001b[0mrs\u001b[0m\u001b[0;34m)\u001b[0m \u001b[0;31m# n_estimators = number of trees, random_state = seed in RNG (None=no seed, alwasy different RNGs)\u001b[0m\u001b[0;34m\u001b[0m\u001b[0;34m\u001b[0m\u001b[0m\n\u001b[0;32m----> 2\u001b[0;31m \u001b[0mforest_clf_amp\u001b[0m\u001b[0;34m.\u001b[0m\u001b[0mfit\u001b[0m\u001b[0;34m(\u001b[0m\u001b[0mX_amp_train\u001b[0m\u001b[0;34m,\u001b[0m \u001b[0my_amp_train\u001b[0m\u001b[0;34m)\u001b[0m\u001b[0;34m\u001b[0m\u001b[0;34m\u001b[0m\u001b[0m\n\u001b[0m\u001b[1;32m      3\u001b[0m \u001b[0;34m\u001b[0m\u001b[0m\n\u001b[1;32m      4\u001b[0m \u001b[0;31m# testing accuracy for amp data\u001b[0m\u001b[0;34m\u001b[0m\u001b[0;34m\u001b[0m\u001b[0;34m\u001b[0m\u001b[0m\n\u001b[1;32m      5\u001b[0m \u001b[0mprint\u001b[0m\u001b[0;34m(\u001b[0m\u001b[0;34m\"Accuracy score on train data: \"\u001b[0m\u001b[0;34m,\u001b[0m \u001b[0maccuracy_score\u001b[0m\u001b[0;34m(\u001b[0m\u001b[0my_amp_train\u001b[0m\u001b[0;34m,\u001b[0m \u001b[0mforest_clf_amp\u001b[0m\u001b[0;34m.\u001b[0m\u001b[0mpredict\u001b[0m\u001b[0;34m(\u001b[0m\u001b[0mX_amp_train\u001b[0m\u001b[0;34m)\u001b[0m\u001b[0;34m)\u001b[0m\u001b[0;34m)\u001b[0m\u001b[0;34m\u001b[0m\u001b[0;34m\u001b[0m\u001b[0m\n",
            "\u001b[0;31mNameError\u001b[0m: name 'X_amp_train' is not defined"
          ]
        }
      ]
    },
    {
      "cell_type": "code",
      "metadata": {
        "id": "3_DUILW4Dimz"
      },
      "source": [
        "amp_pred = forest_clf_amp.predict(X_amp_test)\n",
        "mel_pred = forest_clf_mel.predict(X_mel_test_flat)"
      ],
      "execution_count": null,
      "outputs": []
    },
    {
      "cell_type": "code",
      "metadata": {
        "id": "CksobssCDk2v"
      },
      "source": [
        "# Per-class accuracy\n",
        "import collections\n",
        "\n",
        "def calculate_class_accuracies(y_test, y_hat):\n",
        "    class_totals = collections.Counter(y_test)\n",
        "    class_accuracies = [class_totals[i] for i in range(0, len(class_totals))]\n",
        "\n",
        "    for i in range(len(y_hat)):\n",
        "        if y_hat[i] != y_test[i]:\n",
        "            class_accuracies[y_test[i]] -= 1\n",
        "\n",
        "    class_accuracies_per = [round((class_accuracies[i] / class_totals[i]) * 100, 1) for i in range(0, len(class_totals))]\n",
        "    return class_accuracies_per"
      ],
      "execution_count": null,
      "outputs": []
    },
    {
      "cell_type": "code",
      "metadata": {
        "id": "LLyMZUqjDshV"
      },
      "source": [
        "print(\"Amplitude per-class accuracy\", calculate_class_accuracies(y_amp_test, amp_pred))\n",
        "print(\"Spectrogram per-class accuracy\", calculate_class_accuracies(y_mel_test, mel_pred))"
      ],
      "execution_count": null,
      "outputs": []
    },
    {
      "cell_type": "markdown",
      "metadata": {
        "id": "K2WZORllLx1h"
      },
      "source": [
        "## Grid Search"
      ]
    },
    {
      "cell_type": "code",
      "metadata": {
        "id": "Z2XAtAEzDviW"
      },
      "source": [
        "# Using Grid Search\n",
        "param_grid = [\n",
        "              {'max_depth': [10, 50, None], \n",
        "               'max_features': ['auto', 'sqrt', 'log2'], \n",
        "               'min_samples_leaf': [10, 20, 50], \n",
        "               'max_samples': [0.5, 0.9, 1]}\n",
        "]\n",
        "\n",
        "forest_clf_amp = RandomForestClassifier(n_estimators=10, random_state=rs) # n_estimators = number of trees, random_state = seed in RNG (None=no seed, alwasy different RNGs)\n",
        "forest_clf_amp.fit(X_amp_train, y_amp_train)\n",
        "\n",
        "# testing accuracy for amp data\n",
        "print(\"Accuracy score on train data: \", accuracy_score(y_amp_train, forest_clf_amp.predict(X_amp_train)))\n",
        "print(\"Accuracy score on test data: \", accuracy_score(y_amp_test, forest_clf_amp.predict(X_amp_test)))\n",
        "\n",
        "# GridSearchCV\n",
        "CV_rfc = GridSearchCV(estimator=forest_clf_amp, param_grid=param_grid, cv=3, n_jobs=-1, verbose=10, scoring=\"accuracy\")\n",
        "CV_rfc.fit(X_amp_train, y_amp_train)"
      ],
      "execution_count": null,
      "outputs": []
    },
    {
      "cell_type": "code",
      "metadata": {
        "id": "5eVpxXGGDwBn"
      },
      "source": [
        "print(CV_rfc.best_params_)\n",
        "df = pd.DataFrame(CV_rfc.cv_results_)\n",
        "print(df)"
      ],
      "execution_count": null,
      "outputs": []
    },
    {
      "cell_type": "code",
      "metadata": {
        "id": "5__sztszDxh8"
      },
      "source": [
        "max_depth, max_features, min_samples_leaf, max_samples = CV_rfc.best_params_['max_depth'], CV_rfc.best_params_['max_features'], CV_rfc.best_params_['min_samples_leaf'], CV_rfc.best_params_['max_samples']\n",
        "\n",
        "# print accuracy of the best model\n",
        "forest_clf_amp = RandomForestClassifier(n_estimators=10, random_state=rs, max_depth=max_depth, max_features=max_features, min_samples_leaf=min_samples_leaf, max_samples=max_samples) # n_estimators = number of trees, random_state = seed in RNG (None=no seed, alwasy different RNGs)\n",
        "forest_clf_amp.fit(X_amp_train, y_amp_train)\n",
        "\n",
        "# testing accuracy for amp data\n",
        "print(\"Accuracy score on train data: \", accuracy_score(y_amp_train, forest_clf_amp.predict(X_amp_train)))\n",
        "print(\"Accuracy score on test data: \", accuracy_score(y_amp_test, forest_clf_amp.predict(X_amp_test)))"
      ],
      "execution_count": null,
      "outputs": []
    },
    {
      "cell_type": "code",
      "metadata": {
        "id": "sS192NvgD0ue"
      },
      "source": [
        "# train Random Forests on normal inputs\n",
        "forest_clf_mel = RandomForestClassifier(n_estimators=10, random_state=rs) # n_estimators = number of trees, random_state = seed in RNG (None=no seed, alwasy different RNGs)\n",
        "forest_clf_mel.fit(X_mel_train_flat, y_mel_train)\n",
        "\n",
        "# testing accuracy for amp data\n",
        "print(\"Accuracy score on train data: \", accuracy_score(y_mel_train, forest_clf_mel.predict(X_mel_train_flat)))\n",
        "print(\"Accuracy score on test data: \", accuracy_score(y_mel_test, forest_clf_mel.predict(X_mel_test_flat)))\n",
        "\n",
        "# GridSearchCV\n",
        "CV_rfc_mel = GridSearchCV(estimator=forest_clf_mel, param_grid=param_grid, cv=3, n_jobs=-1, verbose=10, scoring=\"accuracy\")\n",
        "CV_rfc_mel.fit(X_mel_train_flat, y_mel_train)"
      ],
      "execution_count": null,
      "outputs": []
    },
    {
      "cell_type": "code",
      "metadata": {
        "id": "4kaIkcPXD2Ei"
      },
      "source": [
        "print(CV_rfc_mel.best_params_)\n",
        "df_mel = pd.DataFrame(CV_rfc_mel.cv_results_)\n",
        "print(df_mel)"
      ],
      "execution_count": null,
      "outputs": []
    },
    {
      "cell_type": "code",
      "metadata": {
        "id": "uwVLsEqYD36T"
      },
      "source": [
        "max_depth, max_features, min_samples_leaf, max_samples = CV_rfc_mel.best_params_['max_depth'], CV_rfc_mel.best_params_['max_features'], CV_rfc_mel.best_params_['min_samples_leaf'], CV_rfc_mel.best_params_['max_samples']\n",
        "print(max_depth, max_features, min_samples_leaf)\n",
        "# print accuracy of the best model\n",
        "forest_clf_mel = RandomForestClassifier(n_estimators=10, random_state=rs, max_depth=max_depth, max_features=max_features, min_samples_leaf=min_samples_leaf, max_samples=max_samples) # n_estimators = number of trees, random_state = seed in RNG (None=no seed, alwasy different RNGs)\n",
        "forest_clf_mel.fit(X_mel_train_flat, y_mel_train)\n",
        "\n",
        "# testing accuracy for mel data\n",
        "print(\"Accuracy score on train data: \", accuracy_score(y_mel_train, forest_clf_mel.predict(X_mel_train_flat)))\n",
        "print(\"Accuracy score on test data: \", accuracy_score(y_mel_test, forest_clf_mel.predict(X_mel_test_flat)))"
      ],
      "execution_count": null,
      "outputs": []
    },
    {
      "cell_type": "code",
      "metadata": {
        "id": "lDboVCr6D5d1"
      },
      "source": [
        "# LAST HYPERPARAMETER TUNING - CHANGING THE INPUT: PCA\n",
        "# Hyperparameter optimization: decreasing input features through PCA, features = 500\n",
        "\n",
        "NUM_COMPONENTS = 5000\n",
        "\n",
        "# Computes PCA and projects design matrix into parameter space\n",
        "pca_amp = PCA(n_components=NUM_COMPONENTS)\n",
        "X_amp_train_proj_500 = pca_amp.fit_transform(X_amp_train) \n",
        "X_amp_test_proj_500 = pca_amp.transform(X_amp_test)"
      ],
      "execution_count": null,
      "outputs": []
    },
    {
      "cell_type": "code",
      "metadata": {
        "id": "Y-2Qfak4D6wN"
      },
      "source": [
        "# Using Grid Search\n",
        "param_grid = [\n",
        "              {'max_depth': [10, 50, None], \n",
        "               'max_features': ['auto', 'sqrt', 'log2'], \n",
        "               'min_samples_leaf': [10, 20, 50], \n",
        "               'max_samples': [0.5, 0.9, 1]}\n",
        "]\n",
        "\n",
        "forest_clf_amp = RandomForestClassifier(n_estimators=10, random_state=rs) # n_estimators = number of trees, random_state = seed in RNG (None=no seed, alwasy different RNGs)\n",
        "forest_clf_amp.fit(X_amp_train_proj_500, y_amp_train)\n",
        "\n",
        "# testing accuracy for amp data\n",
        "print(\"Accuracy score on train data: \", accuracy_score(y_amp_train, forest_clf_amp.predict(X_amp_train_proj_500)))\n",
        "print(\"Accuracy score on test data: \", accuracy_score(y_amp_test, forest_clf_amp.predict(X_amp_test_proj_500)))\n",
        "\n",
        "# GridSearchCV\n",
        "CV_rfc = GridSearchCV(estimator=forest_clf_amp, param_grid=param_grid, cv=3, n_jobs=-1, verbose=10, scoring=\"accuracy\")\n",
        "CV_rfc.fit(X_amp_train_proj_500, y_amp_train)\n",
        "\n",
        "print(CV_rfc.best_params_)\n",
        "df = pd.DataFrame(CV_rfc.cv_results_)\n",
        "print(df)"
      ],
      "execution_count": null,
      "outputs": []
    },
    {
      "cell_type": "code",
      "metadata": {
        "id": "ZXMPjbxID9oF"
      },
      "source": [
        "max_depth, max_features, min_samples_leaf, max_samples = CV_rfc.best_params_['max_depth'], CV_rfc.best_params_['max_features'], CV_rfc.best_params_['min_samples_leaf'], CV_rfc.best_params_['max_samples']\n",
        "print(max_depth, max_features, min_samples_leaf)\n",
        "# print accuracy of the best model\n",
        "forest_clf_amp = RandomForestClassifier(n_estimators=10, random_state=rs, max_depth=max_depth, max_features=max_features, min_samples_leaf=min_samples_leaf, max_samples=max_samples) # n_estimators = number of trees, random_state = seed in RNG (None=no seed, alwasy different RNGs)\n",
        "forest_clf_amp.fit(X_amp_train_proj_500, y_amp_train)\n",
        "\n",
        "# testing accuracy for amp data\n",
        "print(\"Accuracy score on train data: \", accuracy_score(y_amp_train, forest_clf_amp.predict(X_amp_train_proj_500)))\n",
        "print(\"Accuracy score on test data: \", accuracy_score(y_amp_test, forest_clf_amp.predict(X_amp_test_proj_500)))"
      ],
      "execution_count": null,
      "outputs": []
    },
    {
      "cell_type": "code",
      "metadata": {
        "id": "Tym2PqMhD-zY"
      },
      "source": [
        "# MEL PCA\n",
        "pca_mel = PCA(n_components=NUM_COMPONENTS)\n",
        "X_mel_train_proj_500 = pca_mel.fit_transform(X_mel_train_flat)\n",
        "X_mel_test_proj_500 = pca_mel.transform(X_mel_test_flat)"
      ],
      "execution_count": null,
      "outputs": []
    },
    {
      "cell_type": "code",
      "metadata": {
        "id": "s3SuDBACEACb"
      },
      "source": [
        "# Using Grid Search\n",
        "forest_clf_mel = RandomForestClassifier(n_estimators=10, random_state=rs) # n_estimators = number of trees, random_state = seed in RNG (None=no seed, alwasy different RNGs)\n",
        "forest_clf_mel.fit(X_mel_train_proj_500, y_mel_train)\n",
        "\n",
        "# testing accuracy for mel data\n",
        "print(\"Accuracy score on train data: \", accuracy_score(y_mel_train, forest_clf_mel.predict(X_mel_train_proj_500)))\n",
        "print(\"Accuracy score on test data: \", accuracy_score(y_mel_test, forest_clf_mel.predict(X_mel_test_proj_500)))\n",
        "\n",
        "# GridSearchCV\n",
        "CV_rfc = GridSearchCV(estimator=forest_clf_mel, param_grid=param_grid, cv=3, n_jobs=-1, verbose=10, scoring=\"accuracy\")\n",
        "CV_rfc.fit(X_mel_train_proj_500, y_mel_train)\n",
        "\n",
        "print(CV_rfc.best_params_)\n",
        "df = pd.DataFrame(CV_rfc.cv_results_)\n",
        "print(df)"
      ],
      "execution_count": null,
      "outputs": []
    },
    {
      "cell_type": "code",
      "metadata": {
        "id": "gHXsAu79EBXg"
      },
      "source": [
        "max_depth, max_features, min_samples_leaf, max_samples = CV_rfc.best_params_['max_depth'], CV_rfc.best_params_['max_features'], CV_rfc.best_params_['min_samples_leaf'], CV_rfc.best_params_['max_samples']\n",
        "\n",
        "# print accuracy of the best model\n",
        "forest_clf_mel = RandomForestClassifier(n_estimators=10, random_state=rs, max_depth=max_depth, max_features=max_features, min_samples_leaf=min_samples_leaf, max_samples=max_samples) # n_estimators = number of trees, random_state = seed in RNG (None=no seed, alwasy different RNGs)\n",
        "forest_clf_mel.fit(X_mel_train_proj_500, y_mel_train)\n",
        "\n",
        "# testing accuracy for mel data\n",
        "print(\"Accuracy score on train data: \", accuracy_score(y_mel_train, forest_clf_mel.predict(X_mel_train_proj_500)))\n",
        "print(\"Accuracy score on test data: \", accuracy_score(y_mel_test, forest_clf_mel.predict(X_mel_test_proj_500)))"
      ],
      "execution_count": null,
      "outputs": []
    },
    {
      "cell_type": "markdown",
      "metadata": {
        "id": "C7lELygGqWmd"
      },
      "source": [
        "# CNN"
      ]
    },
    {
      "cell_type": "code",
      "metadata": {
        "id": "fbjOdlZKqZfb"
      },
      "source": [
        "import torch\n",
        "import torchvision\n",
        "import torchvision.transforms as transforms\n",
        "from torch.utils.data import TensorDataset, DataLoader\n",
        "\n",
        "# Set up transformation process for images\n",
        "# transform = transforms.Compose(\n",
        "#     [transforms.ToTensor(),\n",
        "#      transforms.Normalize((0.5, 0.5, 0.5), (0.5, 0.5, 0.5))])\n",
        "\n",
        "# Construct data loaders from existing numpy arrays\n",
        "# Code adapted from https://stackoverflow.com/questions/44429199/how-to-load-a-list-of-numpy-arrays-to-pytorch-dataset-loader\n",
        "def np_to_dataset(X, Y):\n",
        "    return TensorDataset(torch.Tensor(X), torch.Tensor(Y).long())\n",
        "\n",
        "\n",
        "train_dataset = np_to_dataset(X_mel_train, y_mel_train)\n",
        "test_dataset = np_to_dataset(X_mel_test, y_mel_test)\n",
        "\n",
        "trainloader = torch.utils.data.DataLoader(train_dataset, batch_size=32,\n",
        "                                          shuffle=True, num_workers=0)\n",
        "\n",
        "testloader = torch.utils.data.DataLoader(test_dataset, batch_size=32,\n",
        "                                          shuffle=True, num_workers=0)\n",
        "\n",
        "# Hardware acceleration\n",
        "device = torch.device('cuda:0' if torch.cuda.is_available() else 'cpu')\n"
      ],
      "execution_count": null,
      "outputs": []
    },
    {
      "cell_type": "code",
      "metadata": {
        "id": "buVdGKK9qf0g",
        "colab": {
          "base_uri": "https://localhost:8080/",
          "height": 419
        },
        "outputId": "ad203b76-f0d6-4c4c-cb33-fdf1cb5e6cdf"
      },
      "source": [
        "# Adapted from https://pytorch.org/tutorials/beginner/blitz/cifar10_tutorial.html\n",
        "import torch.nn as nn\n",
        "import torch.nn.functional as F\n",
        "\n",
        "\n",
        "class Net(nn.Module):\n",
        "    def __init__(self):\n",
        "        super(Net, self).__init__()\n",
        "        self.conv1 = nn.Conv2d(1, 6, 5)\n",
        "        self.pool1 = nn.MaxPool2d(4, 4)\n",
        "        self.pool2 = nn.MaxPool2d(2, 2)\n",
        "        self.conv2 = nn.Conv2d(6, 16, 5)\n",
        "        self.fc1 = nn.Linear(384, 120)\n",
        "        self.fc2 = nn.Linear(120, 84)\n",
        "        self.fc3 = nn.Linear(84, 10)\n",
        "\n",
        "    def forward(self, x):\n",
        "        x = x.unsqueeze(1)\n",
        "        x = self.pool1(F.relu(self.conv1(x)))\n",
        "        x = self.pool1(F.relu(self.conv2(x)))\n",
        "        x = x.view(-1, x.shape[1]*x.shape[2]*x.shape[3])\n",
        "        x = F.relu(self.fc1(x))\n",
        "        x = F.relu(self.fc2(x))\n",
        "        x = self.fc3(x)\n",
        "        return x\n",
        "\n",
        "\n",
        "net = Net()\n",
        "\n",
        "\n",
        "import torch.optim as optim\n",
        "\n",
        "\n",
        "criterion = nn.CrossEntropyLoss()\n",
        "optimizer = optim.SGD(net.parameters(), lr=0.001, momentum=0.9)\n",
        "\n",
        "train_losses = []\n",
        "test_losses = []\n",
        "for epoch in range(120):  # loop over the dataset multiple times\n",
        "    running_loss = 0.0\n",
        "    for i, data in enumerate(trainloader, 0):\n",
        "        \n",
        "        # get the inputs; data is a list of [inputs, labels]\n",
        "        inputs, labels = data\n",
        "        inputs = inputs.to(device)#\n",
        "        labels = labels.to(device)#\n",
        "        # zero the parameter gradients\n",
        "        optimizer.zero_grad()\n",
        "\n",
        "        # forward + backward + optimize\n",
        "        outputs = net(inputs)\n",
        "        loss = criterion(outputs, labels)\n",
        "        loss.backward()\n",
        "        optimizer.step()\n",
        "        running_loss += loss.item()\n",
        "\n",
        "\n",
        "    train_losses.append(running_loss / 5553)\n",
        "    print('[Epoch %d] average train loss: %.4f' % (epoch + 1, running_loss / 5553))\n",
        "    \n",
        "    ## Calculate test loss in similar fashion\n",
        "    net.train(False)\n",
        "    running_test_loss = 0.0\n",
        "    for i, data in enumerate(testloader, 0):\n",
        "        xs, ys = data\n",
        "        xs = xs.to(device)\n",
        "        ys = ys.to(device)\n",
        "        outputs = net(xs)\n",
        "        #outputs = outputs.to(device)#\n",
        "        loss = criterion(outputs, ys)\n",
        "        running_test_loss += loss.item()\n",
        "\n",
        "    test_losses.append(running_test_loss / 2197)\n",
        "    print('[Epoch %d] average test loss: %.3f' % (epoch + 1, running_test_loss / 2197))\n",
        "\n",
        "print('Finished Training')"
      ],
      "execution_count": null,
      "outputs": [
        {
          "output_type": "error",
          "ename": "RuntimeError",
          "evalue": "ignored",
          "traceback": [
            "\u001b[0;31m---------------------------------------------------------------------------\u001b[0m",
            "\u001b[0;31mRuntimeError\u001b[0m                              Traceback (most recent call last)",
            "\u001b[0;32m<ipython-input-14-a092ee6e86e9>\u001b[0m in \u001b[0;36m<module>\u001b[0;34m()\u001b[0m\n\u001b[1;32m     49\u001b[0m \u001b[0;34m\u001b[0m\u001b[0m\n\u001b[1;32m     50\u001b[0m         \u001b[0;31m# forward + backward + optimize\u001b[0m\u001b[0;34m\u001b[0m\u001b[0;34m\u001b[0m\u001b[0;34m\u001b[0m\u001b[0m\n\u001b[0;32m---> 51\u001b[0;31m         \u001b[0moutputs\u001b[0m \u001b[0;34m=\u001b[0m \u001b[0mnet\u001b[0m\u001b[0;34m(\u001b[0m\u001b[0minputs\u001b[0m\u001b[0;34m)\u001b[0m\u001b[0;34m\u001b[0m\u001b[0;34m\u001b[0m\u001b[0m\n\u001b[0m\u001b[1;32m     52\u001b[0m         \u001b[0mloss\u001b[0m \u001b[0;34m=\u001b[0m \u001b[0mcriterion\u001b[0m\u001b[0;34m(\u001b[0m\u001b[0moutputs\u001b[0m\u001b[0;34m,\u001b[0m \u001b[0mlabels\u001b[0m\u001b[0;34m)\u001b[0m\u001b[0;34m\u001b[0m\u001b[0;34m\u001b[0m\u001b[0m\n\u001b[1;32m     53\u001b[0m         \u001b[0mloss\u001b[0m\u001b[0;34m.\u001b[0m\u001b[0mbackward\u001b[0m\u001b[0;34m(\u001b[0m\u001b[0;34m)\u001b[0m\u001b[0;34m\u001b[0m\u001b[0;34m\u001b[0m\u001b[0m\n",
            "\u001b[0;32m/usr/local/lib/python3.7/dist-packages/torch/nn/modules/module.py\u001b[0m in \u001b[0;36m_call_impl\u001b[0;34m(self, *input, **kwargs)\u001b[0m\n\u001b[1;32m    887\u001b[0m             \u001b[0mresult\u001b[0m \u001b[0;34m=\u001b[0m \u001b[0mself\u001b[0m\u001b[0;34m.\u001b[0m\u001b[0m_slow_forward\u001b[0m\u001b[0;34m(\u001b[0m\u001b[0;34m*\u001b[0m\u001b[0minput\u001b[0m\u001b[0;34m,\u001b[0m \u001b[0;34m**\u001b[0m\u001b[0mkwargs\u001b[0m\u001b[0;34m)\u001b[0m\u001b[0;34m\u001b[0m\u001b[0;34m\u001b[0m\u001b[0m\n\u001b[1;32m    888\u001b[0m         \u001b[0;32melse\u001b[0m\u001b[0;34m:\u001b[0m\u001b[0;34m\u001b[0m\u001b[0;34m\u001b[0m\u001b[0m\n\u001b[0;32m--> 889\u001b[0;31m             \u001b[0mresult\u001b[0m \u001b[0;34m=\u001b[0m \u001b[0mself\u001b[0m\u001b[0;34m.\u001b[0m\u001b[0mforward\u001b[0m\u001b[0;34m(\u001b[0m\u001b[0;34m*\u001b[0m\u001b[0minput\u001b[0m\u001b[0;34m,\u001b[0m \u001b[0;34m**\u001b[0m\u001b[0mkwargs\u001b[0m\u001b[0;34m)\u001b[0m\u001b[0;34m\u001b[0m\u001b[0;34m\u001b[0m\u001b[0m\n\u001b[0m\u001b[1;32m    890\u001b[0m         for hook in itertools.chain(\n\u001b[1;32m    891\u001b[0m                 \u001b[0m_global_forward_hooks\u001b[0m\u001b[0;34m.\u001b[0m\u001b[0mvalues\u001b[0m\u001b[0;34m(\u001b[0m\u001b[0;34m)\u001b[0m\u001b[0;34m,\u001b[0m\u001b[0;34m\u001b[0m\u001b[0;34m\u001b[0m\u001b[0m\n",
            "\u001b[0;32m<ipython-input-14-a092ee6e86e9>\u001b[0m in \u001b[0;36mforward\u001b[0;34m(self, x)\u001b[0m\n\u001b[1;32m     17\u001b[0m     \u001b[0;32mdef\u001b[0m \u001b[0mforward\u001b[0m\u001b[0;34m(\u001b[0m\u001b[0mself\u001b[0m\u001b[0;34m,\u001b[0m \u001b[0mx\u001b[0m\u001b[0;34m)\u001b[0m\u001b[0;34m:\u001b[0m\u001b[0;34m\u001b[0m\u001b[0;34m\u001b[0m\u001b[0m\n\u001b[1;32m     18\u001b[0m         \u001b[0mx\u001b[0m \u001b[0;34m=\u001b[0m \u001b[0mx\u001b[0m\u001b[0;34m.\u001b[0m\u001b[0munsqueeze\u001b[0m\u001b[0;34m(\u001b[0m\u001b[0;36m1\u001b[0m\u001b[0;34m)\u001b[0m\u001b[0;34m\u001b[0m\u001b[0;34m\u001b[0m\u001b[0m\n\u001b[0;32m---> 19\u001b[0;31m         \u001b[0mx\u001b[0m \u001b[0;34m=\u001b[0m \u001b[0mself\u001b[0m\u001b[0;34m.\u001b[0m\u001b[0mpool1\u001b[0m\u001b[0;34m(\u001b[0m\u001b[0mF\u001b[0m\u001b[0;34m.\u001b[0m\u001b[0mrelu\u001b[0m\u001b[0;34m(\u001b[0m\u001b[0mself\u001b[0m\u001b[0;34m.\u001b[0m\u001b[0mconv1\u001b[0m\u001b[0;34m(\u001b[0m\u001b[0mx\u001b[0m\u001b[0;34m)\u001b[0m\u001b[0;34m)\u001b[0m\u001b[0;34m)\u001b[0m\u001b[0;34m\u001b[0m\u001b[0;34m\u001b[0m\u001b[0m\n\u001b[0m\u001b[1;32m     20\u001b[0m         \u001b[0mx\u001b[0m \u001b[0;34m=\u001b[0m \u001b[0mself\u001b[0m\u001b[0;34m.\u001b[0m\u001b[0mpool1\u001b[0m\u001b[0;34m(\u001b[0m\u001b[0mF\u001b[0m\u001b[0;34m.\u001b[0m\u001b[0mrelu\u001b[0m\u001b[0;34m(\u001b[0m\u001b[0mself\u001b[0m\u001b[0;34m.\u001b[0m\u001b[0mconv2\u001b[0m\u001b[0;34m(\u001b[0m\u001b[0mx\u001b[0m\u001b[0;34m)\u001b[0m\u001b[0;34m)\u001b[0m\u001b[0;34m)\u001b[0m\u001b[0;34m\u001b[0m\u001b[0;34m\u001b[0m\u001b[0m\n\u001b[1;32m     21\u001b[0m         \u001b[0mx\u001b[0m \u001b[0;34m=\u001b[0m \u001b[0mx\u001b[0m\u001b[0;34m.\u001b[0m\u001b[0mview\u001b[0m\u001b[0;34m(\u001b[0m\u001b[0;34m-\u001b[0m\u001b[0;36m1\u001b[0m\u001b[0;34m,\u001b[0m \u001b[0mx\u001b[0m\u001b[0;34m.\u001b[0m\u001b[0mshape\u001b[0m\u001b[0;34m[\u001b[0m\u001b[0;36m1\u001b[0m\u001b[0;34m]\u001b[0m\u001b[0;34m*\u001b[0m\u001b[0mx\u001b[0m\u001b[0;34m.\u001b[0m\u001b[0mshape\u001b[0m\u001b[0;34m[\u001b[0m\u001b[0;36m2\u001b[0m\u001b[0;34m]\u001b[0m\u001b[0;34m*\u001b[0m\u001b[0mx\u001b[0m\u001b[0;34m.\u001b[0m\u001b[0mshape\u001b[0m\u001b[0;34m[\u001b[0m\u001b[0;36m3\u001b[0m\u001b[0;34m]\u001b[0m\u001b[0;34m)\u001b[0m\u001b[0;34m\u001b[0m\u001b[0;34m\u001b[0m\u001b[0m\n",
            "\u001b[0;32m/usr/local/lib/python3.7/dist-packages/torch/nn/modules/module.py\u001b[0m in \u001b[0;36m_call_impl\u001b[0;34m(self, *input, **kwargs)\u001b[0m\n\u001b[1;32m    887\u001b[0m             \u001b[0mresult\u001b[0m \u001b[0;34m=\u001b[0m \u001b[0mself\u001b[0m\u001b[0;34m.\u001b[0m\u001b[0m_slow_forward\u001b[0m\u001b[0;34m(\u001b[0m\u001b[0;34m*\u001b[0m\u001b[0minput\u001b[0m\u001b[0;34m,\u001b[0m \u001b[0;34m**\u001b[0m\u001b[0mkwargs\u001b[0m\u001b[0;34m)\u001b[0m\u001b[0;34m\u001b[0m\u001b[0;34m\u001b[0m\u001b[0m\n\u001b[1;32m    888\u001b[0m         \u001b[0;32melse\u001b[0m\u001b[0;34m:\u001b[0m\u001b[0;34m\u001b[0m\u001b[0;34m\u001b[0m\u001b[0m\n\u001b[0;32m--> 889\u001b[0;31m             \u001b[0mresult\u001b[0m \u001b[0;34m=\u001b[0m \u001b[0mself\u001b[0m\u001b[0;34m.\u001b[0m\u001b[0mforward\u001b[0m\u001b[0;34m(\u001b[0m\u001b[0;34m*\u001b[0m\u001b[0minput\u001b[0m\u001b[0;34m,\u001b[0m \u001b[0;34m**\u001b[0m\u001b[0mkwargs\u001b[0m\u001b[0;34m)\u001b[0m\u001b[0;34m\u001b[0m\u001b[0;34m\u001b[0m\u001b[0m\n\u001b[0m\u001b[1;32m    890\u001b[0m         for hook in itertools.chain(\n\u001b[1;32m    891\u001b[0m                 \u001b[0m_global_forward_hooks\u001b[0m\u001b[0;34m.\u001b[0m\u001b[0mvalues\u001b[0m\u001b[0;34m(\u001b[0m\u001b[0;34m)\u001b[0m\u001b[0;34m,\u001b[0m\u001b[0;34m\u001b[0m\u001b[0;34m\u001b[0m\u001b[0m\n",
            "\u001b[0;32m/usr/local/lib/python3.7/dist-packages/torch/nn/modules/conv.py\u001b[0m in \u001b[0;36mforward\u001b[0;34m(self, input)\u001b[0m\n\u001b[1;32m    397\u001b[0m \u001b[0;34m\u001b[0m\u001b[0m\n\u001b[1;32m    398\u001b[0m     \u001b[0;32mdef\u001b[0m \u001b[0mforward\u001b[0m\u001b[0;34m(\u001b[0m\u001b[0mself\u001b[0m\u001b[0;34m,\u001b[0m \u001b[0minput\u001b[0m\u001b[0;34m:\u001b[0m \u001b[0mTensor\u001b[0m\u001b[0;34m)\u001b[0m \u001b[0;34m->\u001b[0m \u001b[0mTensor\u001b[0m\u001b[0;34m:\u001b[0m\u001b[0;34m\u001b[0m\u001b[0;34m\u001b[0m\u001b[0m\n\u001b[0;32m--> 399\u001b[0;31m         \u001b[0;32mreturn\u001b[0m \u001b[0mself\u001b[0m\u001b[0;34m.\u001b[0m\u001b[0m_conv_forward\u001b[0m\u001b[0;34m(\u001b[0m\u001b[0minput\u001b[0m\u001b[0;34m,\u001b[0m \u001b[0mself\u001b[0m\u001b[0;34m.\u001b[0m\u001b[0mweight\u001b[0m\u001b[0;34m,\u001b[0m \u001b[0mself\u001b[0m\u001b[0;34m.\u001b[0m\u001b[0mbias\u001b[0m\u001b[0;34m)\u001b[0m\u001b[0;34m\u001b[0m\u001b[0;34m\u001b[0m\u001b[0m\n\u001b[0m\u001b[1;32m    400\u001b[0m \u001b[0;34m\u001b[0m\u001b[0m\n\u001b[1;32m    401\u001b[0m \u001b[0;32mclass\u001b[0m \u001b[0mConv3d\u001b[0m\u001b[0;34m(\u001b[0m\u001b[0m_ConvNd\u001b[0m\u001b[0;34m)\u001b[0m\u001b[0;34m:\u001b[0m\u001b[0;34m\u001b[0m\u001b[0;34m\u001b[0m\u001b[0m\n",
            "\u001b[0;32m/usr/local/lib/python3.7/dist-packages/torch/nn/modules/conv.py\u001b[0m in \u001b[0;36m_conv_forward\u001b[0;34m(self, input, weight, bias)\u001b[0m\n\u001b[1;32m    394\u001b[0m                             _pair(0), self.dilation, self.groups)\n\u001b[1;32m    395\u001b[0m         return F.conv2d(input, weight, bias, self.stride,\n\u001b[0;32m--> 396\u001b[0;31m                         self.padding, self.dilation, self.groups)\n\u001b[0m\u001b[1;32m    397\u001b[0m \u001b[0;34m\u001b[0m\u001b[0m\n\u001b[1;32m    398\u001b[0m     \u001b[0;32mdef\u001b[0m \u001b[0mforward\u001b[0m\u001b[0;34m(\u001b[0m\u001b[0mself\u001b[0m\u001b[0;34m,\u001b[0m \u001b[0minput\u001b[0m\u001b[0;34m:\u001b[0m \u001b[0mTensor\u001b[0m\u001b[0;34m)\u001b[0m \u001b[0;34m->\u001b[0m \u001b[0mTensor\u001b[0m\u001b[0;34m:\u001b[0m\u001b[0;34m\u001b[0m\u001b[0;34m\u001b[0m\u001b[0m\n",
            "\u001b[0;31mRuntimeError\u001b[0m: Input type (torch.cuda.FloatTensor) and weight type (torch.FloatTensor) should be the same"
          ]
        }
      ]
    },
    {
      "cell_type": "code",
      "metadata": {
        "id": "xXSONkzRqi2T",
        "colab": {
          "base_uri": "https://localhost:8080/"
        },
        "outputId": "f9f830a0-2d32-4130-c3a3-50135bbb6b16"
      },
      "source": [
        "NUM_CLASSES = 10\n",
        "CLASSNAMES = [\"air_conditioner\", \"car_horn\", \"children_playing\", \"dog_bark\", \"drilling\", \"engine_idling\", \"gun_shot\",\n",
        "              \"jackhammer\", \"siren\", \"street_music\"]\n",
        "\n",
        "correct = 0\n",
        "total = 0\n",
        "with torch.no_grad():\n",
        "    for data in testloader:\n",
        "        images, labels = data\n",
        "        images = images.to(device)#\n",
        "        labels = labels.to(device)#\n",
        "        outputs = net(images)\n",
        "        _, predicted = torch.max(outputs.data, 1)\n",
        "        total += labels.size(0)\n",
        "        correct += (predicted == labels).sum().item()\n",
        "\n",
        "print('Accuracy of the network on the test images: %d %%' % (\n",
        "    100 * correct / total))\n",
        "\n",
        "class_correct = list(0. for i in range(10))\n",
        "class_total = list(0. for i in range(10))\n",
        "with torch.no_grad():\n",
        "    for data in testloader:\n",
        "        images, labels = data\n",
        "        images = images.to(device)#\n",
        "        labels = labels.to(device)#\n",
        "        outputs = net(images)\n",
        "        _, predicted = torch.max(outputs, 1)\n",
        "        c = (predicted == labels).squeeze()\n",
        "        for i in range(len(labels)):\n",
        "            label = labels[i]\n",
        "            class_correct[label] += c[i].item()\n",
        "            class_total[label] += 1\n",
        "\n",
        "\n",
        "for i in range(10):\n",
        "    print('Accuracy of %5s : %2d %%' % (\n",
        "        CLASSNAMES[i], 100 * class_correct[i] / class_total[i]))"
      ],
      "execution_count": null,
      "outputs": [
        {
          "output_type": "stream",
          "text": [
            "Accuracy of the network on the test images: 32 %\n",
            "Accuracy of air_conditioner :  5 %\n",
            "Accuracy of car_horn :  0 %\n",
            "Accuracy of children_playing : 16 %\n",
            "Accuracy of dog_bark : 41 %\n",
            "Accuracy of drilling : 20 %\n",
            "Accuracy of engine_idling : 23 %\n",
            "Accuracy of gun_shot : 20 %\n",
            "Accuracy of jackhammer : 95 %\n",
            "Accuracy of siren : 46 %\n",
            "Accuracy of street_music : 51 %\n"
          ],
          "name": "stdout"
        }
      ]
    },
    {
      "cell_type": "code",
      "metadata": {
        "id": "ckGVcdDbTeD8"
      },
      "source": [
        "param_grid = {\n",
        "    'batch_size': [16, 32, 64],\n",
        "    'epochs': [n_epochs_cv],\n",
        "    'dropout_rate': [0.0, 0.10, 0.20, 0.30],\n",
        "}\n",
        "grid = GridSearchCV(estimator=model, param_grid=param_grid, n_jobs=-1, cv=n_cv)"
      ],
      "execution_count": null,
      "outputs": []
    },
    {
      "cell_type": "code",
      "metadata": {
        "id": "WRrw80fsqkxz",
        "colab": {
          "base_uri": "https://localhost:8080/",
          "height": 278
        },
        "outputId": "68aa8f97-f47c-41fb-fe2e-c33302b649d2"
      },
      "source": [
        "import matplotlib.pyplot as plt\n",
        "\n",
        "plt.plot(train_losses, label=\"Average train loss\")\n",
        "plt.plot(test_losses, label=\"Average test loss\")\n",
        "plt.xlabel(\"epochs\")\n",
        "plt.legend()\n",
        "plt.savefig('cnn_losses.png')\n",
        "plt.show()"
      ],
      "execution_count": null,
      "outputs": [
        {
          "output_type": "display_data",
          "data": {
            "image/png": "[encoded data removed]",
            "text/plain": [
              "<Figure size 432x288 with 1 Axes>"
            ]
          },
          "metadata": {
            "tags": [],
            "needs_background": "light"
          }
        }
      ]
    },
    {
      "cell_type": "markdown",
      "metadata": {
        "id": "OatyOxq6Kz3a"
      },
      "source": [
        "### Compute accuracies"
      ]
    },
    {
      "cell_type": "code",
      "metadata": {
        "id": "F4NsZI_tAfG5"
      },
      "source": [
        "NUM_CLASSES = 10\n",
        "CLASSNAMES = [\"air_conditioner\", \"car_horn\", \"children_playing\", \"dog_bark\", \"drilling\", \"engine_idling\", \"gun_shot\",\n",
        "              \"jackhammer\", \"siren\", \"street_music\"]"
      ],
      "execution_count": null,
      "outputs": []
    },
    {
      "cell_type": "code",
      "metadata": {
        "id": "8701BQkGK2hq"
      },
      "source": [
        "correct = 0\n",
        "total = 0\n",
        "with torch.no_grad():\n",
        "    for data in testloader:\n",
        "        images, labels = data\n",
        "        images, labels = images.to(device), labels.to(device)\n",
        "        outputs = net(images)\n",
        "        _, predicted = torch.max(outputs.data, 1)\n",
        "        total += labels.size(0)\n",
        "        correct += (predicted == labels).sum().item()\n",
        "\n",
        "print('Accuracy of the network on the test images: %d %%' % (\n",
        "    100 * correct / total))\n",
        "\n",
        "class_correct = list(0. for i in range(10))\n",
        "class_total = list(0. for i in range(10))\n",
        "with torch.no_grad():\n",
        "    for data in testloader:\n",
        "        images, labels = data\n",
        "        images, labels = images.to(device), labels.to(device)\n",
        "        outputs = net(images)\n",
        "        _, predicted = torch.max(outputs, 1)\n",
        "        c = (predicted == labels).squeeze()\n",
        "        for i in range(len(labels)):\n",
        "            label = labels[i]\n",
        "            class_correct[label] += c[i].item()\n",
        "            class_total[label] += 1\n",
        "\n",
        "\n",
        "for i in range(10):\n",
        "    print('Accuracy of %5s : %2d %%' % (\n",
        "        CLASSNAMES[i], 100 * class_correct[i] / class_total[i]))"
      ],
      "execution_count": null,
      "outputs": []
    },
    {
      "cell_type": "markdown",
      "metadata": {
        "id": "oXRpE8WfLHJp"
      },
      "source": [
        "### Grid Search"
      ]
    },
    {
      "cell_type": "code",
      "metadata": {
        "id": "qZFWnR7jLBja"
      },
      "source": [
        "# Grid search\n",
        "import torch.nn as nn\n",
        "import torch.nn.functional as F\n",
        "import torch.optim as optim\n",
        "\n",
        "# Parameterize the CNN dense layer 2\n",
        "class NetPrime(nn.Module):\n",
        "    # Adapted from https://pytorch.org/tutorials/beginner/blitz/cifar10_tutorial.html\n",
        "    def __init__(self, pen_layer_size):\n",
        "        super(NetPrime, self).__init__()\n",
        "        self.conv1 = nn.Conv2d(1, 6, 5)\n",
        "        self.pool1 = nn.MaxPool2d(4, 4)\n",
        "        self.pool2 = nn.MaxPool2d(2, 2)\n",
        "        self.conv2 = nn.Conv2d(6, 16, 5)\n",
        "        self.fc1 = nn.Linear(384, pen_layer_size)\n",
        "        self.fc2 = nn.Linear(pen_layer_size, 84)\n",
        "        self.fc3 = nn.Linear(84, 10)\n",
        "\n",
        "    def forward(self, x):\n",
        "        x = x.unsqueeze(1)\n",
        "        x = self.pool1(F.relu(self.conv1(x)))\n",
        "        x = self.pool1(F.relu(self.conv2(x)))\n",
        "        x = x.view(-1, x.shape[1]*x.shape[2]*x.shape[3])\n",
        "        x = F.relu(self.fc1(x))\n",
        "        x = F.relu(self.fc2(x))\n",
        "        x = self.fc3(x)\n",
        "        return x\n",
        "\n",
        "def train_model(pen_layer_size, lr, epochs, trainloader, testloader, verbose=False):\n",
        "    net = NetPrime(pen_layer_size=pen_layer_size)\n",
        "    if torch.cuda.is_available():\n",
        "        net.cuda()\n",
        "\n",
        "    criterion = nn.CrossEntropyLoss()\n",
        "    optimizer = optim.SGD(net.parameters(), lr=lr, momentum=0.9)\n",
        "\n",
        "    train_losses = []\n",
        "    test_losses = []\n",
        "    for epoch in range(epochs):  # loop over the dataset multiple times\n",
        "\n",
        "        running_loss = 0.0\n",
        "        for i, data in enumerate(trainloader, 0):\n",
        "            # get the inputs; data is a list of [inputs, labels]\n",
        "            inputs, labels = data\n",
        "            inputs, labels = inputs.to(device), labels.to(device)\n",
        "            # zero the parameter gradients\n",
        "            optimizer.zero_grad()\n",
        "\n",
        "            # forward + backward + optimize\n",
        "            outputs = net(inputs)\n",
        "            loss = criterion(outputs, labels)\n",
        "            loss.backward()\n",
        "            optimizer.step()\n",
        "            running_loss += loss.item()\n",
        "\n",
        "\n",
        "        train_losses.append(running_loss / 5553)\n",
        "        if verbose:\n",
        "            print('[Epoch %d] average train loss: %.4f' % (epoch + 1, running_loss / 5553))\n",
        "        \n",
        "        ## Calculate test loss in similar fashion\n",
        "        net.train(False)\n",
        "        running_test_loss = 0.0\n",
        "        for i, data in enumerate(testloader, 0):\n",
        "            xs, ys = data\n",
        "            xs = xs.to(device)\n",
        "            ys = ys.to(device)\n",
        "\n",
        "            outputs = net(xs)\n",
        "            loss = criterion(outputs, ys)\n",
        "            running_test_loss += loss.item()\n",
        "\n",
        "        test_losses.append(running_test_loss / 2197)\n",
        "        if verbose:\n",
        "            print('[Epoch %d] average test loss: %.3f' % (epoch + 1, running_test_loss / 2197))\n",
        "\n",
        "    print('Finished Training')\n",
        "    return {'train_losses': train_losses, 'test_losses': test_losses, 'model': net}\n",
        "\n",
        "def net_accuracy(net, testloader):\n",
        "    correct = 0\n",
        "    total = 0\n",
        "    with torch.no_grad():\n",
        "        for data in testloader:\n",
        "            images, labels = data\n",
        "            images, labels = images.to(device), labels.to(device)\n",
        "            outputs = net(images)\n",
        "            _, predicted = torch.max(outputs.data, 1)\n",
        "            total += labels.size(0)\n",
        "            correct += (predicted == labels).sum().item()\n",
        "\n",
        "    print('Accuracy of the network on the test images: %d %%' % (\n",
        "        100 * correct / total))\n",
        "\n",
        "    class_correct = list(0. for i in range(10))\n",
        "    class_total = list(0. for i in range(10))\n",
        "    with torch.no_grad():\n",
        "        for data in testloader:\n",
        "            images, labels = data\n",
        "            images, labels = images.to(device), labels.to(device)\n",
        "            outputs = net(images)\n",
        "            _, predicted = torch.max(outputs, 1)\n",
        "            c = (predicted == labels).squeeze()\n",
        "            for i in range(4):\n",
        "                label = labels[i]\n",
        "                class_correct[label] += c[i].item()\n",
        "                class_total[label] += 1\n",
        "\n",
        "\n",
        "    for i in range(10):\n",
        "        print('Accuracy of %5s : %2d %%' % (\n",
        "            CLASSNAMES[i], 100 * class_correct[i] / class_total[i]))\n",
        "        \n",
        "def train_and_evaluate(pen_layer_size, lr, epochs, trainloader, testloader):\n",
        "    results = train_model(pen_layer_size, lr, epochs, trainloader, testloader)\n",
        "    net_accuracy(results['model'], testloader)\n",
        "    return results"
      ],
      "execution_count": null,
      "outputs": []
    },
    {
      "cell_type": "code",
      "metadata": {
        "id": "Uf_3UbwKLBci"
      },
      "source": [
        "import itertools\n",
        "pen_layer_sizes = [5, 10, 25, 50, 100]\n",
        "epochs = [100]\n",
        "lrs = [0.01, 0.001]\n",
        "trainloaders = [trainloader]\n",
        "testloaders = [testloader]\n",
        "\n",
        "gs_results = {}\n",
        "for params in itertools.product(pen_layer_sizes, lrs, epochs, trainloaders, testloaders):\n",
        "    print(f\"Params training: {params}\")\n",
        "    gs_results[tuple(params)] = train_and_evaluate(*params)\n",
        "\n"
      ],
      "execution_count": null,
      "outputs": []
    },
    {
      "cell_type": "code",
      "metadata": {
        "id": "ZkHgn2g3LNBL"
      },
      "source": [
        "import pickle\n",
        "from google.colab import files\n",
        "\n",
        "pickle.dump(gs_results, open(\"cnn_gs_results.p\", \"wb\"))\n",
        "files.download('cnn_gs_results.p') "
      ],
      "execution_count": null,
      "outputs": []
    },
    {
      "cell_type": "code",
      "metadata": {
        "id": "sqy5V404LBRm"
      },
      "source": [
        "# Get test samples from class 1 (0% accuracy)\n",
        "x_mel_1 = torch.Tensor(X_mel_test[np.where(y_mel_test == 1)]).to(device)\n",
        "\n",
        "# Get predictions on those samples\n",
        "net.train(False)\n",
        "y_preds = net(x_mel_1).cpu()\n",
        "y_preds = y_preds.detach()\n",
        "y_preds = y_preds.numpy().argmax(axis=1)\n",
        "y_preds = [np.count_nonzero(y_preds == i) for i in range(NUM_CLASSES)]\n",
        "print(y_preds)\n",
        "\n",
        "# Create a bar plot"
      ],
      "execution_count": null,
      "outputs": []
    },
    {
      "cell_type": "code",
      "metadata": {
        "id": "y-REMmnfLCx-"
      },
      "source": [
        "def prediction_spread(preds, num_categories, true_class):\n",
        "    xlabs = list(range(num_categories))\n",
        "    fig = plt.figure()\n",
        "    ax = fig.add_axes([0,0,1,1])\n",
        "    ax.bar(xlabs, preds)\n",
        "    ax.set_xticks(xlabs)\n",
        "    ax.set_xticklabels([str(i) for i in range(num_categories)])\n",
        "    ax.set_ylabel('Count')\n",
        "    ax.set_xlabel('Classes')\n",
        "    ax.set_title(f'Class Predicted (true class = {true_class})')\n",
        "    plt.show()\n",
        "\n",
        "prediction_spread(y_preds, NUM_CLASSES, true_class=1)\n"
      ],
      "execution_count": null,
      "outputs": []
    },
    {
      "cell_type": "markdown",
      "metadata": {
        "id": "dkgFx-O0ibmh"
      },
      "source": [
        "# Data Augmentation"
      ]
    },
    {
      "cell_type": "code",
      "metadata": {
        "id": "zXCPFn6xidtR"
      },
      "source": [
        "class_dict = {0 : \"air_conditioner\", \n",
        "              1 : \"car_horn\",\n",
        "              2 : \"children_playing\",\n",
        "              3 : \"dog_bark\",\n",
        "              4 : \"drilling\",\n",
        "              5 : \"engine_idling\",\n",
        "              6 : \"gun_shot\",\n",
        "              7 : \"jackhammer\",\n",
        "              8 : \"siren\",\n",
        "              9 : \"street_music\"}"
      ],
      "execution_count": null,
      "outputs": []
    },
    {
      "cell_type": "code",
      "metadata": {
        "id": "XPN8kQJZifCg"
      },
      "source": [
        "# add noise\n",
        "import numpy as np\n",
        "np.random.seed(0) # reset the seed\n",
        "def add_noise(data, noise_factor):\n",
        "    noise = np.random.randn(data.shape[1])\n",
        "    augmented_data = np.empty((data.shape[0], data.shape[1]))\n",
        "    for i in range(data.shape[0]):\n",
        "        augmented_data[i] = data[i] + noise_factor * noise\n",
        "    # Cast back to same data type\n",
        "    # augmented_data = augmented_data.astype(type(data[0]))\n",
        "    return augmented_data\n",
        "\n",
        "X_amp_train_noise = add_noise(X_amp_train, 0.05)"
      ],
      "execution_count": null,
      "outputs": []
    },
    {
      "cell_type": "code",
      "metadata": {
        "id": "0xj7luzoiiT4"
      },
      "source": [
        "# view the difference between raw and noise data\n",
        "num = 30\n",
        "print(class_dict[y_amp_train[num]])\n",
        "plot_amp(X_amp_train[num])\n",
        "plot_amp(X_amp_train_noise[num])"
      ],
      "execution_count": null,
      "outputs": []
    },
    {
      "cell_type": "code",
      "metadata": {
        "id": "34wwkwD8inQa"
      },
      "source": [
        "# add noise data to raw data\n",
        "X_amp_train_noise_comb = np.append(X_amp_train, X_amp_train_noise, axis=0)\n",
        "y_amp_train_noise = np.append(y_amp_train, y_amp_train, axis=0)"
      ],
      "execution_count": null,
      "outputs": []
    },
    {
      "cell_type": "code",
      "metadata": {
        "id": "5oNPHEK5irqy"
      },
      "source": [
        "# time shift code\n",
        "def time_shift(data, sampling_rate, shift_max, shift_direction):\n",
        "    augmented_data = np.empty((data.shape[0], data.shape[1]))\n",
        "    for i in range(data.shape[0]):\n",
        "        shift = np.random.randint(sampling_rate * shift_max)\n",
        "        if shift_direction == 'right':\n",
        "            shift = -shift\n",
        "        elif shift_direction == 'both':\n",
        "            direction = np.random.randint(0, 2)\n",
        "            if direction == 1:\n",
        "                shift = -shift\n",
        "        augmented_data[i] = np.roll(data[i], shift)\n",
        "    return augmented_data"
      ],
      "execution_count": null,
      "outputs": []
    },
    {
      "cell_type": "code",
      "metadata": {
        "id": "K_Ez2Dn4itIu"
      },
      "source": [
        "X_amp_train_time = time_shift(X_amp_train, 0.5, X_amp_train.shape[1], 'both')"
      ],
      "execution_count": null,
      "outputs": []
    },
    {
      "cell_type": "code",
      "metadata": {
        "id": "SIukXq4_izu2"
      },
      "source": [
        "# view the difference between raw and noise data\n",
        "num = 29\n",
        "print(class_dict[y_amp_train[num]])\n",
        "plot_amp(X_amp_train[num])\n",
        "plot_amp(X_amp_train_time[num])"
      ],
      "execution_count": null,
      "outputs": []
    },
    {
      "cell_type": "code",
      "metadata": {
        "id": "DgHsGKkfi5eO"
      },
      "source": [
        "# combine both raw, noise, and time data\n",
        "X_amp_train_time_comb = np.append(X_amp_train, X_amp_train_time, axis=0)\n",
        "X_amp_train_comb = np.append(X_amp_train_noise, X_amp_train_time_comb, axis=0)\n",
        "y_amp_train_comb = np.append(y_amp_train_noise, y_amp_train, axis=0)\n",
        "print(X_amp_train_comb.shape)\n",
        "# run X_amp_train_comb on Rnadom Forest"
      ],
      "execution_count": null,
      "outputs": []
    },
    {
      "cell_type": "code",
      "metadata": {
        "id": "g96aDkYcjQOt"
      },
      "source": [
        ""
      ],
      "execution_count": null,
      "outputs": []
    }
  ]
}